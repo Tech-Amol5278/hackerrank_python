{
 "cells": [
  {
   "cell_type": "markdown",
   "metadata": {},
   "source": [
    "You have a record of students. Each record contains the student's name, and their percent marks in Maths, Physics and Chemistry. The marks can be floating values. The user enters some integer followed by the names and marks for students. You are required to save the record in a dictionary data type. The user then enters a student's name. Output the average percentage marks obtained by that student, correct to two decimal places.\n",
    "\n",
    "Input Format\n",
    "\n",
    "The first line contains the integer , the number of students. The next lines contains the name and marks obtained by that student separated by a space. The final line contains the name of a particular student previously listed.\n",
    "\n",
    "Constraints\n",
    "\n",
    "Output Format\n",
    "\n",
    "Print one line: The average of the marks obtained by the particular student correct to 2 decimal places.\n",
    "\n",
    "Sample Input 0\n",
    "\n",
    "3 Krishna 67 68 69 Arjun 70 98 63 Malika 52 56 60 Malika Sample Output 0\n",
    "\n",
    "56.00 Explanation 0\n",
    "\n",
    "Marks for Malika are whose average is\n",
    "\n",
    "Sample Input 1\n",
    "\n",
    "2 Harsh 25 26.5 28 Anurag 26 28 30 Harsh Sample Output 1\n",
    "\n",
    "26.50"
   ]
  },
  {
   "cell_type": "code",
   "execution_count": 10,
   "metadata": {},
   "outputs": [
    {
     "name": "stdout",
     "output_type": "stream",
     "text": [
      "Enter the no. od students: 2\n",
      "Enter users no and scores, separated by space: Remo 39 40 41\n",
      "Enter users no and scores, separated by space: Ranjo 49 46 43\n",
      "Enter a students name to get the average of his score: Ranjo\n",
      "46.00\n"
     ]
    }
   ],
   "source": [
    "std_cnt = int(input(\"Enter the no. od students: \"))\n",
    "\n",
    "if std_cnt >= 2 & std_cnt <= 10:\n",
    "  for i in range(std_cnt):\n",
    "    std_raw = input(\"Enter users no and scores, separated by space: \").split(\" \")\n",
    "    std = {std_raw[0] : std_raw[1:]}\n",
    "\n",
    "  find_name = input(\"Enter a students name to get the average of his score: \")\n",
    "\n",
    "  if find_name in std:\n",
    "        target_list = std[find_name]\n",
    "        sum_of_score = 0\n",
    "        score_count = 0\n",
    "        for i in target_list:\n",
    "            sum_of_score += float(i)\n",
    "            score_count += 1\n",
    "\n",
    "  print(\"{0:.2f}\".format(sum_of_score/score_count))\n",
    "\n",
    "else:\n",
    "  print(\"Please enter the no. of students between 1 to 10\")"
   ]
  },
  {
   "cell_type": "code",
   "execution_count": null,
   "metadata": {},
   "outputs": [],
   "source": []
  }
 ],
 "metadata": {
  "kernelspec": {
   "display_name": "Python 3",
   "language": "python",
   "name": "python3"
  },
  "language_info": {
   "codemirror_mode": {
    "name": "ipython",
    "version": 3
   },
   "file_extension": ".py",
   "mimetype": "text/x-python",
   "name": "python",
   "nbconvert_exporter": "python",
   "pygments_lexer": "ipython3",
   "version": "3.7.6"
  }
 },
 "nbformat": 4,
 "nbformat_minor": 4
}
