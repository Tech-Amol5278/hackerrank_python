{
  "nbformat": 4,
  "nbformat_minor": 0,
  "metadata": {
    "colab": {
      "name": "Nested Lists.ipynb",
      "provenance": [],
      "authorship_tag": "ABX9TyOVtw0f++afded4Kzal8qoU",
      "include_colab_link": true
    },
    "kernelspec": {
      "name": "python3",
      "display_name": "Python 3"
    }
  },
  "cells": [
    {
      "cell_type": "markdown",
      "metadata": {
        "id": "view-in-github",
        "colab_type": "text"
      },
      "source": [
        "<a href=\"https://colab.research.google.com/github/Tech-Amol5278/hackerrank_python/blob/master/Nested_Lists.ipynb\" target=\"_parent\"><img src=\"https://colab.research.google.com/assets/colab-badge.svg\" alt=\"Open In Colab\"/></a>"
      ]
    },
    {
      "cell_type": "markdown",
      "metadata": {
        "id": "qkvHrtMNFPIs",
        "colab_type": "text"
      },
      "source": [
        "Given the names and grades for each student in a Physics class of  students, store them in a nested list and print the name(s) of any student(s) having the second lowest grade.\n",
        "\n",
        "Note: If there are multiple students with the same grade, order their names alphabetically and print each name on a new line.\n",
        "\n",
        "Input Format\n",
        "\n",
        "The first line contains an integer, , the number of students.\n",
        "The  subsequent lines describe each student over  lines; the first line contains a student's name, and the second line contains their grade.\n",
        "\n",
        "Output Format\n",
        "\n",
        "Print the name(s) of any student(s) having the second lowest grade in Physics; if there are multiple students, order their names alphabetically and print each one on a new line.\n",
        "\n",
        "Sample Input 0\n",
        "\n",
        "5\n",
        "Harry\n",
        "37.21\n",
        "Berry\n",
        "37.21\n",
        "Tina\n",
        "37.2\n",
        "Akriti\n",
        "41\n",
        "Harsh\n",
        "39\n",
        "Sample Output 0\n",
        "\n",
        "Berry\n",
        "Harry\n",
        "Explanation 0\n",
        "\n",
        "There are  students in this class whose names and grades are assembled to build the following list:\n",
        "\n",
        "python students = [['Harry', 37.21], ['Berry', 37.21], ['Tina', 37.2], ['Akriti', 41], ['Harsh', 39]]\n",
        "\n",
        "The lowest grade of  belongs to Tina. The second lowest grade of  belongs to both Harry and Berry, so we order their names alphabetically and print each name on a new line."
      ]
    },
    {
      "cell_type": "code",
      "metadata": {
        "id": "edTha3PSGOAn",
        "colab_type": "code",
        "colab": {}
      },
      "source": [
        "std_count = int(input(\"Enter the no of students to check for the next highest score: \"))\n",
        "std_names = []\n",
        "std_score = []\n",
        "for n in range(std_count):\n",
        "  std_names.append(input(\"Enter student's name: \"))\n",
        "  std_score.append(input(\"Enter student's score: \"))\n",
        "\n",
        "\n"
      ],
      "execution_count": 0,
      "outputs": []
    }
  ]
}