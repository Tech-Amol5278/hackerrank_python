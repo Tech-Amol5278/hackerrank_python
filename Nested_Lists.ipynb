{
  "nbformat": 4,
  "nbformat_minor": 0,
  "metadata": {
    "colab": {
      "name": "Nested Lists.ipynb",
      "provenance": [],
      "authorship_tag": "ABX9TyM6mSNkaWYeumf/oVZKZl6h",
      "include_colab_link": true
    },
    "kernelspec": {
      "name": "python3",
      "display_name": "Python 3"
    }
  },
  "cells": [
    {
      "cell_type": "markdown",
      "metadata": {
        "id": "view-in-github",
        "colab_type": "text"
      },
      "source": [
        "<a href=\"https://colab.research.google.com/github/Tech-Amol5278/hackerrank_python/blob/master/Nested_Lists.ipynb\" target=\"_parent\"><img src=\"https://colab.research.google.com/assets/colab-badge.svg\" alt=\"Open In Colab\"/></a>"
      ]
    },
    {
      "cell_type": "markdown",
      "metadata": {
        "id": "qkvHrtMNFPIs",
        "colab_type": "text"
      },
      "source": [
        "Given the names and grades for each student in a Physics class of  students, store them in a nested list and print the name(s) of any student(s) having the second lowest grade.\n",
        "\n",
        "Note: If there are multiple students with the same grade, order their names alphabetically and print each name on a new line.\n",
        "\n",
        "Input Format\n",
        "\n",
        "The first line contains an integer, , the number of students.\n",
        "The  subsequent lines describe each student over  lines; the first line contains a student's name, and the second line contains their grade.\n",
        "\n",
        "Output Format\n",
        "\n",
        "Print the name(s) of any student(s) having the second lowest grade in Physics; if there are multiple students, order their names alphabetically and print each one on a new line.\n",
        "\n",
        "Sample Input 0\n",
        "\n",
        "5\n",
        "Harry\n",
        "37.21\n",
        "Berry\n",
        "37.21\n",
        "Tina\n",
        "37.2\n",
        "Akriti\n",
        "41\n",
        "Harsh\n",
        "39\n",
        "Sample Output 0\n",
        "\n",
        "Berry\n",
        "Harry\n",
        "Explanation 0\n",
        "\n",
        "There are  students in this class whose names and grades are assembled to build the following list:\n",
        "\n",
        "python students = [['Harry', 37.21], ['Berry', 37.21], ['Tina', 37.2], ['Akriti', 41], ['Harsh', 39]]\n",
        "\n",
        "The lowest grade of  belongs to Tina. The second lowest grade of  belongs to both Harry and Berry, so we order their names alphabetically and print each name on a new line."
      ]
    },
    {
      "cell_type": "code",
      "metadata": {
        "id": "edTha3PSGOAn",
        "colab_type": "code",
        "colab": {
          "base_uri": "https://localhost:8080/",
          "height": 255
        },
        "outputId": "4bce69e4-cb39-4dad-80a5-ef22c7f9b838"
      },
      "source": [
        "std_count = int(input(\"Enter the no of students to check for the next highest score: \"))\n",
        "std_names = []\n",
        "std_score = []\n",
        "std = []\n",
        "for n in range(std_count):\n",
        "  name = input(\"Enter student's name: \")\n",
        "  score = float(input(\"Enter student's score: \"))\n",
        "  std_names.append(name)\n",
        "  std_score.append(score)\n",
        "  std.append([name,score])\n",
        "\n",
        "std_copy = std.copy()\n",
        "std_name_copy = []\n",
        "std_score_copy = []\n",
        "max_score = max(std_score)\n",
        "print(std_copy)\n",
        "for item in std_copy:\n",
        "  if item[1] == max_score:\n",
        "    std_copy.remove(item)\n",
        "  else :\n",
        "    std_name_copy.append(item[0])\n",
        "    std_score_copy.append(item[1])\n",
        "\n",
        "secnd_high = max(std_score_copy)\n",
        "for i in std_copy:\n",
        "  if i[1] == secnd_high:\n",
        "    print(i[0])\n",
        "\n",
        "\n",
        "\n",
        "\n",
        "\n",
        "  \n",
        "  \n",
        "\n"
      ],
      "execution_count": 17,
      "outputs": [
        {
          "output_type": "stream",
          "text": [
            "Enter the no of students to check for the next highest score: 5\n",
            "Enter student's name: Harry\n",
            "Enter student's score: 37.21\n",
            "Enter student's name: Berry\n",
            "Enter student's score: 37.21\n",
            "Enter student's name: Tina\n",
            "Enter student's score: 37.2\n",
            "Enter student's name: Akriti\n",
            "Enter student's score: 41\n",
            "Enter student's name: Harsh\n",
            "Enter student's score: 39\n",
            "[['Harry', 37.21], ['Berry', 37.21], ['Tina', 37.2], ['Akriti', 41.0], ['Harsh', 39.0]]\n",
            "Harry\n",
            "Berry\n"
          ],
          "name": "stdout"
        }
      ]
    },
    {
      "cell_type": "code",
      "metadata": {
        "id": "r0atsZV7YFPN",
        "colab_type": "code",
        "colab": {}
      },
      "source": [
        ""
      ],
      "execution_count": 0,
      "outputs": []
    }
  ]
}