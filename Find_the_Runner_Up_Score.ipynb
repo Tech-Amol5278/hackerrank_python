{
  "nbformat": 4,
  "nbformat_minor": 0,
  "metadata": {
    "colab": {
      "name": "Find the Runner-Up Score.ipynb",
      "provenance": [],
      "authorship_tag": "ABX9TyOpoir4q8PPgT2Da2PgRKkH",
      "include_colab_link": true
    },
    "kernelspec": {
      "name": "python3",
      "display_name": "Python 3"
    }
  },
  "cells": [
    {
      "cell_type": "markdown",
      "metadata": {
        "id": "view-in-github",
        "colab_type": "text"
      },
      "source": [
        "<a href=\"https://colab.research.google.com/github/Tech-Amol5278/hackerrank_python/blob/master/Find_the_Runner_Up_Score.ipynb\" target=\"_parent\"><img src=\"https://colab.research.google.com/assets/colab-badge.svg\" alt=\"Open In Colab\"/></a>"
      ]
    },
    {
      "cell_type": "markdown",
      "metadata": {
        "id": "tGc3c7zr1WGj",
        "colab_type": "text"
      },
      "source": [
        "Given the participants' score sheet for your University Sports Day, you are required to find the runner-up score. You are given  scores. Store them in a list and find the score of the runner-up.\n",
        "\n",
        "Input Format\n",
        "\n",
        "The first line contains . The second line contains an array   of  integers each separated by a space.\n",
        "\n",
        "Output Format\n",
        "\n",
        "Print the runner-up score.\n",
        "\n",
        "Sample Input 0\n",
        "\n",
        "5\n",
        "2 3 6 6 5\n",
        "Sample Output 0\n",
        "\n",
        "5\n",
        "Explanation 0\n",
        "\n",
        "Given list is . The maximum score is , second maximum is . Hence, we print  as the runner-up score."
      ]
    },
    {
      "cell_type": "code",
      "metadata": {
        "id": "hCMOnp4b1ygT",
        "colab_type": "code",
        "colab": {}
      },
      "source": [
        "def find_runner_up(n,l):\n",
        "  l1 = l.copy()\n",
        "  max_no = max(l)\n",
        "  \n",
        "  while max(l) in l1:\n",
        "    l1.remove(max(l))\n",
        "    \n",
        "  return max(l1)  "
      ],
      "execution_count": 0,
      "outputs": []
    },
    {
      "cell_type": "code",
      "metadata": {
        "id": "Pk79pixM7xlY",
        "colab_type": "code",
        "colab": {
          "base_uri": "https://localhost:8080/",
          "height": 68
        },
        "outputId": "c616a8c2-93c1-46f8-e7a6-5c2d734a215f"
      },
      "source": [
        "n = int(input(\"Enter number of scores to check: \"))\n",
        "l = input(f\"Enter {n} scores separated by space: \").split(\" \")\n",
        "\n",
        "if len(l) <= n:\n",
        "  print(find_runner_up(n,l))\n",
        "else:\n",
        "  print(\"Please check the inputs again\")\n",
        "\n"
      ],
      "execution_count": 23,
      "outputs": [
        {
          "output_type": "stream",
          "text": [
            "Enter number of scores to check: 7\n",
            "Enter 7 scores separated by space: 2 3 7 5 6 6 7\n",
            "6\n"
          ],
          "name": "stdout"
        }
      ]
    },
    {
      "cell_type": "code",
      "metadata": {
        "id": "wzGp5UPz78FL",
        "colab_type": "code",
        "colab": {}
      },
      "source": [
        ""
      ],
      "execution_count": 0,
      "outputs": []
    }
  ]
}